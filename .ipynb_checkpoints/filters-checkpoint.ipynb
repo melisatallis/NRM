{
 "cells": [
  {
   "cell_type": "code",
   "execution_count": null,
   "metadata": {},
   "outputs": [],
   "source": [
    "#import modules\n",
    "import numpy as np\n",
    "import matplotlib.pyplot as plt\n",
    "import scipy.fftpack as fft\n",
    "import scipy.signal as sig\n",
    "import pandas as pd\n",
    "import time"
   ]
  },
  {
   "cell_type": "code",
   "execution_count": null,
   "metadata": {},
   "outputs": [],
   "source": [
    "from matplotlib import rc\n",
    "from matplotlib import rcParams\n",
    "\n",
    "rc('xtick', labelsize=15) \n",
    "rc('ytick', labelsize=15)\n",
    "\n",
    "rc('axes', titlesize=15) \n",
    "rc('axes', labelsize=15) \n",
    "rc('axes', linewidth=2)\n",
    "\n",
    "rcParams['legend.fontsize'] = 15\n",
    "rcParams['patch.linewidth'] = 1\n",
    "rcParams['axes.labelpad'] = 7"
   ]
  },
  {
   "cell_type": "code",
   "execution_count": null,
   "metadata": {},
   "outputs": [],
   "source": [
    "savepath = '/Users/melisatallis/Documents/Research/NRM/results/paramater_estimation_tau/'\n",
    "dstr = time.strftime('%Y%m%d')"
   ]
  },
  {
   "cell_type": "markdown",
   "metadata": {},
   "source": [
    "# Define filter, bath, and qubit decoherence factor  "
   ]
  },
  {
   "cell_type": "markdown",
   "metadata": {},
   "source": [
    "G has to be a homogeneous function and depending on the freq, it has a different tau dependence. \n",
    "That is why the filter needs to probe different frequancy regions.  "
   ]
  },
  {
   "cell_type": "code",
   "execution_count": null,
   "metadata": {},
   "outputs": [],
   "source": [
    "#bath and decoherence factor\n",
    "def bath(params,omega):\n",
    "    '''\n",
    "    G = bath(params,omega)\n",
    "    \n",
    "    Model to describe memory time scales of the environment, \n",
    "    also known as the generalized Ornstein-Uhlenbeck spectral density.\n",
    "    \n",
    "    Parameters\n",
    "    ----------\n",
    "    g : number\n",
    "        Coupling strength \n",
    "    tau_c : number\n",
    "        Correlation time  \n",
    "    beta : number\n",
    "        Type of noise process\n",
    "    omega: array \n",
    "        Frequncices \n",
    "\n",
    "    Returns\n",
    "    -------\n",
    "    array\n",
    "        An approximation of the spectral density of the noise.\n",
    "    '''\n",
    "    g = params[0]\n",
    "    tau_c = params[1]\n",
    "    beta = params[2]\n",
    "    A = (beta*np.sin(np.pi/beta))/(2*np.pi)\n",
    "    \n",
    "    return g**2*A*tau_c/(1+(omega**beta*tau_c**beta))\n",
    "\n",
    "#signal functions\n",
    "def FID(t,t0):\n",
    "    '''\n",
    "    F = FID(t,t0)\n",
    "    \n",
    "    Rectangular wave function.  \n",
    "    Width defaults to length of the timeseries if larger than the timeseries. \n",
    "    \n",
    "    INPUT\n",
    "    - t: list or array of numbers \n",
    "    - t0: Length of observation [Integer]\n",
    "    \n",
    "    OUTPUT\n",
    "    - Fourier Transform of the rectangular function, squared [array]    \n",
    "    \n",
    "    '''\n",
    "    n = len(t)  \n",
    "    f_s = 1/(t[1]-t[0])\n",
    "    width = t0*f_s\n",
    "    y = np.piecewise(t,[t < t0, t > t0],[1,0])\n",
    "    if t0 < t[-1]:\n",
    "        norm = 1/width\n",
    "    else:\n",
    "        norm = 1/n\n",
    "    yFT = fft.fftshift(fft.fft(y*norm))\n",
    "    return ((t0*np.abs(yFT))**2)/(2)\n",
    "\n",
    "\n",
    "def FID_t(omega,t0):\n",
    "    '''\n",
    "    F_t = FID_t(omega,t0)\n",
    "    \n",
    "    Analytical FID model \n",
    "    \n",
    "    INPUT\n",
    "    - omega: list of frequencies \n",
    "    - t0: Length of observation [Integer]\n",
    "    \n",
    "    OUTPUT\n",
    "    - An approximation of the FID [array] \n",
    "    ''' \n",
    "    return ((t0*np.sinc(omega*t0))**2)/(2)\n",
    "\n",
    "def J_t(m):\n",
    "    return m*(1-np.exp(-m/2))\n",
    "    \n",
    "    "
   ]
  },
  {
   "cell_type": "markdown",
   "metadata": {},
   "source": [
    "Simulated timeseries data"
   ]
  },
  {
   "cell_type": "code",
   "execution_count": null,
   "metadata": {},
   "outputs": [],
   "source": [
    "# Generate time series\n",
    "t_total = 100 # Seconds\n",
    "f_s = 10  # Sampling rate, or number of measurements per second\n",
    "n = t_total * f_s # Number of data points \n",
    "t = np.linspace(0.0,t_total,n,endpoint=False)\n",
    "omega = fft.fftshift(fft.fftfreq(n,d=1/f_s))"
   ]
  },
  {
   "cell_type": "markdown",
   "metadata": {},
   "source": [
    "Visualize Data"
   ]
  },
  {
   "cell_type": "code",
   "execution_count": null,
   "metadata": {},
   "outputs": [],
   "source": [
    "# Check that numerical FID shape matches the analytical FID shape\n",
    "\n",
    "%matplotlib notebook\n",
    "\n",
    "t0 = 100 # time of observation\n",
    "F = FID(t,t0) # Numerical\n",
    "F_t = FID_t(omega,t0) # Analytical\n",
    "\n",
    "plt.figure(figsize=[8,5.5])\n",
    "plt.plot(omega,F,label = 'Numerical',lw=4)\n",
    "plt.plot(omega,F_t,label = 'Analytical')\n",
    "#plt.plot(omega,F_t**2, label = 'Analytical')\n",
    "plt.legend()\n",
    "\n",
    "#plt.savefig(savepath + 'FID_shape_analytical_vs_numerical' + '_' + dstr + '.pdf')    "
   ]
  },
  {
   "cell_type": "code",
   "execution_count": null,
   "metadata": {},
   "outputs": [],
   "source": [
    "%matplotlib notebook\n",
    "\n",
    "n_lines = 5\n",
    "# Noise spectrum \n",
    "plt.figure(figsize = [8,5.5])\n",
    "colors = plt.cm.magma_r(np.linspace(0,1,n_lines))\n",
    "#colors = ['indianred','darkorange','gold','darkcyan','navy']\n",
    "\n",
    "for i, tau in enumerate(np.linspace(0,10,n_lines)):\n",
    "    params = [1,tau,2]\n",
    "    G = bath(params,omega)\n",
    "    plt.plot(omega,G,color = colors[i],\n",
    "             label = r'$\\tau_c$ = '+ str(params[1]) + ' sec')\n",
    "    plt.hlines(np.max(G)/2,xmin=-1/tau,xmax=1/tau,linestyles='--',color=colors[i])\n",
    "\n",
    "    \n",
    "plt.xlim(-2,2)\n",
    "plt.legend(frameon = False, borderpad = 1.5)\n",
    "plt.xlabel(r'$\\omega$'+' [Hz]')\n",
    "plt.ylabel('Spectral Density')\n",
    "plt.savefig(savepath + '_' + 'bath_various_taus' + '_' + dstr + '.png')\n",
    "plt.savefig(savepath + '_' + 'bath_various_taus' + '_' + dstr + '.pdf')\n"
   ]
  },
  {
   "cell_type": "markdown",
   "metadata": {},
   "source": [
    "Superimpose bath with extreme cases of FID"
   ]
  },
  {
   "cell_type": "code",
   "execution_count": null,
   "metadata": {
    "scrolled": false
   },
   "outputs": [],
   "source": [
    "%matplotlib notebook\n",
    "\n",
    "fig = plt.figure(figsize=(17,5.5))\n",
    "\n",
    "# case where t0 >> tau \n",
    "t0 = 100\n",
    "tau = 10\n",
    "\n",
    "params = [1,tau,2]\n",
    "G = bath(params,omega)\n",
    "F = FID(t,t0)\n",
    "\n",
    "ax1 = fig.add_subplot(1,2,1)\n",
    "ax1.plot(omega,F,label = 'FID (' + r'$t_0$ = '+ str(t0) + ' sec)',color = 'orange')\n",
    "ax1.plot(omega,G,label = 'bath (' + r'$\\tau_c$ = '+ str(params[1]) + ' sec)',color='Teal' )\n",
    "ax1.fill_between(omega, F,color = 'cornsilk')\n",
    "ax1.set_xlabel(r'$\\omega$'+' [hz]')\n",
    "ax1.set_ylabel('Spectral Density')\n",
    "ax1.set_xlim(-1,1)\n",
    "ax1.set_ylim(0,4)\n",
    "ax1.legend()\n",
    "\n",
    "# case where t0 << tau \n",
    "t0 = 1\n",
    "tau = 10\n",
    "\n",
    "params = [1,tau,2]\n",
    "F = FID(t,t0)\n",
    "F_t = FID_t(omega,t0) # Analytical\n",
    "\n",
    "ax2 = fig.add_subplot(1,2,2)\n",
    "ax2.plot(omega,F,label = 'FID (' + r'$t_0$ = '+ str(t0) + ' sec)',color = 'orange')\n",
    "ax2.plot(omega,G,label = 'bath (' + r'$\\tau_c$ = '+ str(params[1]) + ' sec)',color='teal' )\n",
    "ax2.fill_between(omega, F,color = 'cornsilk')\n",
    "ax2.set_xlabel(r'$\\omega$'+' [hz]')\n",
    "ax2.set_ylabel('Spectral Density')\n",
    "ax2.set_xlim(-1,1)\n",
    "ax2.set_ylim(0,4)\n",
    "ax2.legend(loc='upper right')\n",
    "plt.savefig(savepath + 'bath_FID_overlap_extreme_examples' + '_' + dstr + '.png')"
   ]
  },
  {
   "cell_type": "markdown",
   "metadata": {},
   "source": [
    "Calcula el factor J para un caso"
   ]
  },
  {
   "cell_type": "code",
   "execution_count": null,
   "metadata": {},
   "outputs": [],
   "source": [
    "def integrate(x,y):\n",
    "    '''\n",
    "    Area = integrate(x,y)\n",
    "    \n",
    "    Numerical integration function that computes the total area under a list of values,\n",
    "    utilizing the midpoint method. \n",
    "    \n",
    "    INPUT\n",
    "    - x: list of indices [array] \n",
    "    - y: list of values [array] \n",
    "    \n",
    "    OUTPUT\n",
    "    - Total area under the list of values [float] \n",
    "\n",
    "    '''\n",
    "    a = x[-1]\n",
    "    b = x[0]\n",
    "    N = len(x)\n",
    "    dx = np.abs(b - a)/N\n",
    "    y_mid = (y[:-1] + y[1:])/2.0\n",
    "    return np.sum(y_mid*dx)"
   ]
  },
  {
   "cell_type": "markdown",
   "metadata": {},
   "source": [
    "Calcula factor j para todo los casos de tau"
   ]
  },
  {
   "cell_type": "code",
   "execution_count": null,
   "metadata": {
    "scrolled": false
   },
   "outputs": [],
   "source": [
    "%matplotlib notebook\n",
    "\n",
    "tau = 1\n",
    "Js_t = []\n",
    "Js_n = []\n",
    "\n",
    "\n",
    "params = [1,tau,2]\n",
    "G = bath(params,omega)\n",
    "\n",
    "for t0 in t:\n",
    "    F = FID(t,t0)\n",
    "    J_n = integrate(omega,G*F)\n",
    "    Js_n.append(J_n)\n",
    "    \n",
    "#    F_t = FID_t(omega,t0)\n",
    "#    J_t = integrate(omega,G*F_t)\n",
    "#    Js_t.append(J_t)\n",
    "    \n",
    "plt.figure(figsize=[8,6])   \n",
    "plt.loglog(t/tau,np.array(Js_n),label = 'Analytical',lw=4)\n",
    "plt.loglog(t/tau,J_t(t/tau),label = 'Numerical')\n",
    "plt.ylabel(r'Attenuation Factor ( $J_{\\rm free}$ )')\n",
    "plt.xlabel(r'Obsevation Time ($t_{\\rm obs}/\\tau_c$)')\n",
    "#plt.xlim(1,10**4)\n",
    "plt.legend()\n",
    "\n",
    "\n",
    "plt.savefig(savepath + 'decay_factor_vs_t_obs' + '_' + dstr + '.png')    \n",
    "plt.savefig(savepath + 'decay_factor_vs_t_obs' + '_' + dstr + '.pdf')    \n",
    "\n",
    "\n",
    "#pred_tau = np.argmin(np.abs(np.array(J_s)-0.8))\n",
    "#print(pred_tau)\n",
    "#plt.plot(t,J_s)"
   ]
  },
  {
   "cell_type": "code",
   "execution_count": null,
   "metadata": {},
   "outputs": [],
   "source": []
  }
 ],
 "metadata": {
  "kernelspec": {
   "display_name": "Python 3",
   "language": "python",
   "name": "python3"
  },
  "language_info": {
   "codemirror_mode": {
    "name": "ipython",
    "version": 3
   },
   "file_extension": ".py",
   "mimetype": "text/x-python",
   "name": "python",
   "nbconvert_exporter": "python",
   "pygments_lexer": "ipython3",
   "version": "3.6.5"
  }
 },
 "nbformat": 4,
 "nbformat_minor": 2
}
